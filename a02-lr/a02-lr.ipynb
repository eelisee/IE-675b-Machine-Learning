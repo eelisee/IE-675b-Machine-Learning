{
 "cells": [
  {
   "cell_type": "markdown",
   "id": "449b31e5",
   "metadata": {},
   "source": [
    "# Machine Learning - Assignment 2"
   ]
  },
  {
   "cell_type": "markdown",
   "id": "8a9ac675",
   "metadata": {},
   "source": [
    "Arne Huckemann (ahuckema), Elise Wolf (eliwolf)"
   ]
  },
  {
   "cell_type": "code",
   "execution_count": 21,
   "id": "38155495",
   "metadata": {
    "collapsed": false
   },
   "outputs": [],
   "source": [
    "import matplotlib.pyplot as plt\n",
    "import numpy as np\n",
    "import numpy.random\n",
    "import numpy.linalg\n",
    "import scipy.io\n",
    "import scipy.stats\n",
    "import sklearn.metrics\n",
    "\n",
    "# setup plotting \n",
    "from IPython import get_ipython\n",
    "import psutil\n",
    "inTerminal = not \"IPKernelApp\" in get_ipython().config\n",
    "inJupyterNb = any(filter(lambda x: x.endswith(\"jupyter-notebook\"), psutil.Process().parent().cmdline()))\n",
    "get_ipython().run_line_magic(\"matplotlib\", \"\" if inTerminal else \"notebook\" if inJupyterNb else \"widget\")\n",
    "def nextplot():\n",
    "    if inTerminal:\n",
    "        plt.clf()     # this clears the current plot\n",
    "    else:\n",
    "        plt.figure()  # this creates a new plot "
   ]
  },
  {
   "cell_type": "markdown",
   "id": "a6927266",
   "metadata": {},
   "source": [
    "# Load the data"
   ]
  },
  {
   "cell_type": "code",
   "execution_count": 22,
   "id": "2d29b069",
   "metadata": {
    "collapsed": false
   },
   "outputs": [],
   "source": [
    "data = scipy.io.loadmat(\"data/spamData.mat\")\n",
    "X = data[\"Xtrain\"]\n",
    "N = X.shape[0]\n",
    "D = X.shape[1]\n",
    "Xtest = data[\"Xtest\"]\n",
    "Ntest = Xtest.shape[0]\n",
    "y = data[\"ytrain\"].squeeze().astype(int)\n",
    "ytest = data[\"ytest\"].squeeze().astype(int)\n",
    "\n",
    "features = np.array(\n",
    "    [\n",
    "        \"word_freq_make\",\n",
    "        \"word_freq_address\",\n",
    "        \"word_freq_all\",\n",
    "        \"word_freq_3d\",\n",
    "        \"word_freq_our\",\n",
    "        \"word_freq_over\",\n",
    "        \"word_freq_remove\",\n",
    "        \"word_freq_internet\",\n",
    "        \"word_freq_order\",\n",
    "        \"word_freq_mail\",\n",
    "        \"word_freq_receive\",\n",
    "        \"word_freq_will\",\n",
    "        \"word_freq_people\",\n",
    "        \"word_freq_report\",\n",
    "        \"word_freq_addresses\",\n",
    "        \"word_freq_free\",\n",
    "        \"word_freq_business\",\n",
    "        \"word_freq_email\",\n",
    "        \"word_freq_you\",\n",
    "        \"word_freq_credit\",\n",
    "        \"word_freq_your\",\n",
    "        \"word_freq_font\",\n",
    "        \"word_freq_000\",\n",
    "        \"word_freq_money\",\n",
    "        \"word_freq_hp\",\n",
    "        \"word_freq_hpl\",\n",
    "        \"word_freq_george\",\n",
    "        \"word_freq_650\",\n",
    "        \"word_freq_lab\",\n",
    "        \"word_freq_labs\",\n",
    "        \"word_freq_telnet\",\n",
    "        \"word_freq_857\",\n",
    "        \"word_freq_data\",\n",
    "        \"word_freq_415\",\n",
    "        \"word_freq_85\",\n",
    "        \"word_freq_technology\",\n",
    "        \"word_freq_1999\",\n",
    "        \"word_freq_parts\",\n",
    "        \"word_freq_pm\",\n",
    "        \"word_freq_direct\",\n",
    "        \"word_freq_cs\",\n",
    "        \"word_freq_meeting\",\n",
    "        \"word_freq_original\",\n",
    "        \"word_freq_project\",\n",
    "        \"word_freq_re\",\n",
    "        \"word_freq_edu\",\n",
    "        \"word_freq_table\",\n",
    "        \"word_freq_conference\",\n",
    "        \"char_freq_;\",\n",
    "        \"char_freq_(\",\n",
    "        \"char_freq_[\",\n",
    "        \"char_freq_!\",\n",
    "        \"char_freq_$\",\n",
    "        \"char_freq_#\",\n",
    "        \"capital_run_length_average\",\n",
    "        \"capital_run_length_longest\",\n",
    "        \"capital_run_length_total\",\n",
    "    ]\n",
    ")"
   ]
  },
  {
   "cell_type": "code",
   "execution_count": 35,
   "id": "a42fe1bf",
   "metadata": {},
   "outputs": [
    {
     "name": "stdout",
     "output_type": "stream",
     "text": [
      "Number of Word Frequency Features: 48\n",
      "Number of Character Frequency Features: 6\n",
      "Number of Capital Run Length Features: 3\n",
      "\n",
      "Word Frequency Features:\n",
      "['word_freq_make' 'word_freq_address' 'word_freq_all' 'word_freq_3d'\n",
      " 'word_freq_our' 'word_freq_over' 'word_freq_remove' 'word_freq_internet'\n",
      " 'word_freq_order' 'word_freq_mail' 'word_freq_receive' 'word_freq_will'\n",
      " 'word_freq_people' 'word_freq_report' 'word_freq_addresses'\n",
      " 'word_freq_free' 'word_freq_business' 'word_freq_email' 'word_freq_you'\n",
      " 'word_freq_credit' 'word_freq_your' 'word_freq_font' 'word_freq_000'\n",
      " 'word_freq_money' 'word_freq_hp' 'word_freq_hpl' 'word_freq_george'\n",
      " 'word_freq_650' 'word_freq_lab' 'word_freq_labs' 'word_freq_telnet'\n",
      " 'word_freq_857' 'word_freq_data' 'word_freq_415' 'word_freq_85'\n",
      " 'word_freq_technology' 'word_freq_1999' 'word_freq_parts' 'word_freq_pm'\n",
      " 'word_freq_direct' 'word_freq_cs' 'word_freq_meeting'\n",
      " 'word_freq_original' 'word_freq_project' 'word_freq_re' 'word_freq_edu'\n",
      " 'word_freq_table' 'word_freq_conference']\n",
      "\n",
      "Character Frequency Features:\n",
      "['char_freq_;' 'char_freq_(' 'char_freq_[' 'char_freq_!' 'char_freq_$'\n",
      " 'char_freq_#']\n",
      "\n",
      "Capital Run Length Features:\n",
      "['capital_run_length_average' 'capital_run_length_longest'\n",
      " 'capital_run_length_total']\n"
     ]
    }
   ],
   "source": [
    "# Variables containing specific types of features\n",
    "word_freq_features = features[word_freq_indices]\n",
    "char_freq_indices = [i for i, feature in enumerate(features) if feature.startswith('char_freq')]\n",
    "char_freq_features = features[char_freq_indices]\n",
    "capital_run_indices = [i for i, feature in enumerate(features) if feature.startswith('capital_run')]\n",
    "capital_run_features = features[capital_run_indices]\n",
    "\n",
    "print(f\"Number of Word Frequency Features: {len(word_freq_features)}\")\n",
    "print(f\"Number of Character Frequency Features: {len(char_freq_features)}\")\n",
    "print(f\"Number of Capital Run Length Features: {len(capital_run_features)}\\n\")\n",
    "\n",
    "print(\"Word Frequency Features:\")\n",
    "print(word_freq_features)\n",
    "print(\"\\nCharacter Frequency Features:\")\n",
    "print(char_freq_features)\n",
    "print(\"\\nCapital Run Length Features:\")\n",
    "print(capital_run_features)"
   ]
  },
  {
   "cell_type": "code",
   "execution_count": 37,
   "id": "a186c06a",
   "metadata": {},
   "outputs": [],
   "source": [
    "# print(data)\n",
    "\n",
    "# looks horrible, don't know why"
   ]
  },
  {
   "cell_type": "markdown",
   "id": "a1ee00cf",
   "metadata": {},
   "source": [
    "# 1. Dataset Statistics"
   ]
  },
  {
   "cell_type": "code",
   "execution_count": 38,
   "id": "4127af74",
   "metadata": {
    "collapsed": false
   },
   "outputs": [
    {
     "data": {
      "text/plain": [
       "DescribeResult(nobs=3065, minmax=(array([0., 0., 0., 0., 0., 0., 0., 0., 0., 0., 0., 0., 0., 0., 0., 0., 0.,\n",
       "       0., 0., 0., 0., 0., 0., 0., 0., 0., 0., 0., 0., 0., 0., 0., 0., 0.,\n",
       "       0., 0., 0., 0., 0., 0., 0., 0., 0., 0., 0., 0., 0., 0., 0., 0., 0.,\n",
       "       0., 0., 0., 1., 1., 1.]), array([4.5400e+00, 1.4280e+01, 5.1000e+00, 4.2810e+01, 9.0900e+00,\n",
       "       3.5700e+00, 7.2700e+00, 1.1110e+01, 3.3300e+00, 1.8180e+01,\n",
       "       2.0000e+00, 9.6700e+00, 5.5500e+00, 5.5500e+00, 2.8600e+00,\n",
       "       1.0160e+01, 7.1400e+00, 9.0900e+00, 1.8750e+01, 6.3200e+00,\n",
       "       1.1110e+01, 1.7100e+01, 5.4500e+00, 9.0900e+00, 2.0000e+01,\n",
       "       1.4280e+01, 3.3330e+01, 4.7600e+00, 1.4280e+01, 4.7600e+00,\n",
       "       4.7600e+00, 4.7600e+00, 1.8180e+01, 4.7600e+00, 2.0000e+01,\n",
       "       7.6900e+00, 6.8900e+00, 7.4000e+00, 9.7500e+00, 4.7600e+00,\n",
       "       7.1400e+00, 1.4280e+01, 3.5700e+00, 2.0000e+01, 2.1420e+01,\n",
       "       1.6700e+01, 2.1200e+00, 1.0000e+01, 4.3850e+00, 9.7520e+00,\n",
       "       4.0810e+00, 3.2478e+01, 6.0030e+00, 1.9829e+01, 1.1025e+03,\n",
       "       9.9890e+03, 1.5841e+04])), mean=array([1.10818923e-01, 2.28486134e-01, 2.74153344e-01, 6.29690049e-02,\n",
       "       3.17787928e-01, 9.57553018e-02, 1.13546493e-01, 1.07216966e-01,\n",
       "       8.89233279e-02, 2.41719413e-01, 5.81305057e-02, 5.37432300e-01,\n",
       "       9.26231648e-02, 4.96639478e-02, 5.07210440e-02, 2.35334421e-01,\n",
       "       1.47197390e-01, 1.86600326e-01, 1.66121044e+00, 7.63066884e-02,\n",
       "       8.19592170e-01, 1.22727569e-01, 1.02006525e-01, 8.90799347e-02,\n",
       "       5.29800979e-01, 2.62071778e-01, 7.71507341e-01, 1.14323002e-01,\n",
       "       1.09487765e-01, 9.92952692e-02, 6.28156607e-02, 4.90342577e-02,\n",
       "       9.27471452e-02, 4.96019576e-02, 1.02156607e-01, 9.93050571e-02,\n",
       "       1.43285481e-01, 1.24274062e-02, 7.55921697e-02, 6.60456770e-02,\n",
       "       4.63360522e-02, 1.32176183e-01, 4.88580750e-02, 7.11876020e-02,\n",
       "       3.06590538e-01, 1.79794454e-01, 5.28874388e-03, 3.13768352e-02,\n",
       "       3.79543230e-02, 1.38396411e-01, 1.81830343e-02, 2.65470799e-01,\n",
       "       7.91275693e-02, 5.34218597e-02, 4.90062936e+00, 5.26750408e+01,\n",
       "       2.82203915e+02]), variance=array([1.07094140e-01, 1.88742036e+00, 2.34317437e-01, 1.78161723e+00,\n",
       "       4.40325719e-01, 6.79193461e-02, 1.39844435e-01, 1.72001423e-01,\n",
       "       6.97247542e-02, 4.69800274e-01, 3.58302179e-02, 7.59167719e-01,\n",
       "       9.28365241e-02, 8.26118648e-02, 7.00470321e-02, 4.29393369e-01,\n",
       "       2.00636301e-01, 2.92991898e-01, 3.18992370e+00, 1.65626303e-01,\n",
       "       1.44315254e+00, 1.01505046e+00, 1.19749530e-01, 1.43862796e-01,\n",
       "       2.45800502e+00, 7.38036013e-01, 1.13920029e+01, 2.31010973e-01,\n",
       "       4.31507668e-01, 1.90528093e-01, 1.24671084e-01, 1.07425177e-01,\n",
       "       2.95159161e-01, 1.07745599e-01, 3.08154062e-01, 1.67896547e-01,\n",
       "       1.85791650e-01, 4.34829439e-02, 1.42525114e-01, 1.16865102e-01,\n",
       "       1.50361473e-01, 6.09903912e-01, 5.73945833e-02, 3.19259425e-01,\n",
       "       1.01935877e+00, 8.17471270e-01, 4.63438951e-03, 7.50333517e-02,\n",
       "       5.54612799e-02, 7.77968333e-02, 1.48045497e-02, 7.59181612e-01,\n",
       "       6.74541224e-02, 2.69600271e-01, 7.42311765e+02, 4.86573219e+04,\n",
       "       3.68952901e+05]), skewness=array([ 5.92257918,  9.5555492 ,  2.94110789, 27.15035267,  4.22000271,\n",
       "        4.55490419,  6.21454549, 10.63604439,  4.44795353,  9.63368819,\n",
       "        5.1601559 ,  3.12797362,  7.99555783, 10.07103212,  6.44051978,\n",
       "        5.9017492 ,  5.71193665,  5.63845456,  1.6918398 ,  8.05102821,\n",
       "        2.36131511,  9.70708774,  5.74851972, 13.62929854,  5.51200726,\n",
       "        5.77490458,  5.72163481,  5.84582426, 11.30526457,  6.67894971,\n",
       "        8.78006633, 10.35563132, 16.1291286 , 10.31146394, 17.98980105,\n",
       "        7.86085564,  5.29526945, 27.69555992, 10.51869112,  9.12514394,\n",
       "       12.60532735,  9.42688905,  7.88762618, 19.69945392,  9.63372543,\n",
       "        8.97501221, 18.94255005, 20.98217881, 14.12336521, 16.36382061,\n",
       "       21.32440567, 21.32959254, 10.88427173, 26.25786993, 27.34951229,\n",
       "       31.14016596,  9.80477376]), kurtosis=array([  51.71558405,   93.89016173,   13.18839908,  785.40163828,\n",
       "         28.69487647,   31.20576951,   66.53150801,  198.68010939,\n",
       "         28.29530115,  185.40607771,   34.48800593,   15.18712484,\n",
       "        109.66544541,  138.05561341,   44.19188958,   55.62892   ,\n",
       "         47.49151277,   52.75647121,    6.32523058,   77.87379384,\n",
       "          8.48736408,  103.7022867 ,   49.37553046,  272.09125904,\n",
       "         42.43992409,   49.41302953,   33.63974328,   39.86629858,\n",
       "        166.19735746,   53.12216402,   91.72439904,  124.79234055,\n",
       "        433.42661801,  123.97955409,  555.16708959,   86.72460731,\n",
       "         43.92486688,  865.39968623,  181.33012173,  100.87592785,\n",
       "        189.11563172,  111.21705016,   81.96093958,  567.75150773,\n",
       "        147.5283386 ,  107.79164424,  445.8361165 ,  634.57001982,\n",
       "        228.75884956,  499.07842266,  588.19774644,  688.05527222,\n",
       "        184.31757803,  851.48819158,  954.59095344, 1348.49464105,\n",
       "        183.78053905]))"
      ]
     },
     "execution_count": 38,
     "metadata": {},
     "output_type": "execute_result"
    }
   ],
   "source": [
    "# look some dataset statistics\n",
    "scipy.stats.describe(X)"
   ]
  },
  {
   "cell_type": "code",
   "execution_count": 40,
   "id": "7bc04d52",
   "metadata": {
    "collapsed": false
   },
   "outputs": [
    {
     "name": "stdout",
     "output_type": "stream",
     "text": [
      "Number of observations: 3065\n",
      "Minimum value: 0\n",
      "Maximum value: 1\n",
      "Mean: 0.39738988580750406\n",
      "Variance: 0.23954932085067235\n",
      "Skewness: 0.41936632478193103\n",
      "Kurtosis: -1.824131885638896\n"
     ]
    }
   ],
   "source": [
    "# Get the summary statistics for the y variable\n",
    "summary_stats = scipy.stats.describe(y)\n",
    "\n",
    "# Print the summary statistics in a readable format\n",
    "print(f\"Number of observations: {summary_stats.nobs}\")\n",
    "print(f\"Minimum value: {summary_stats.minmax[0]}\")\n",
    "print(f\"Maximum value: {summary_stats.minmax[1]}\")\n",
    "print(f\"Mean: {summary_stats.mean}\")\n",
    "print(f\"Variance: {summary_stats.variance}\")\n",
    "print(f\"Skewness: {summary_stats.skewness}\")\n",
    "print(f\"Kurtosis: {summary_stats.kurtosis}\")"
   ]
  },
  {
   "cell_type": "code",
   "execution_count": 42,
   "id": "bbe7f627",
   "metadata": {
    "collapsed": false
   },
   "outputs": [
    {
     "data": {
      "text/plain": [
       "<matplotlib.legend.Legend at 0x169c70ad0>"
      ]
     },
     "execution_count": 42,
     "metadata": {},
     "output_type": "execute_result"
    },
    {
     "data": {
      "application/vnd.jupyter.widget-view+json": {
       "model_id": "191e66b28f63493d9ae5a16a1b7772b7",
       "version_major": 2,
       "version_minor": 0
      },
      "image/png": "[encoded data removed]",
      "text/html": [
       "\n",
       "            <div style=\"display: inline-block;\">\n",
       "                <div class=\"jupyter-widgets widget-label\" style=\"text-align: center;\">\n",
       "                    Figure\n",
       "                </div>\n",
       "                <img src='data:image/png;base64,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' width=640.0/>\n",
       "            </div>\n",
       "        "
      ],
      "text/plain": [
       "Canvas(toolbar=Toolbar(toolitems=[('Home', 'Reset original view', 'home', 'home'), ('Back', 'Back to previous …"
      ]
     },
     "metadata": {},
     "output_type": "display_data"
    }
   ],
   "source": [
    "# plot the distribution of all features\n",
    "nextplot()\n",
    "densities = [scipy.stats.gaussian_kde(X[:, j]) for j in range(D)] # compute the gaussian kernel density estimate for every feature in the dataset\n",
    "xs = np.linspace(0, np.max(X), 200)\n",
    "for j in range(D):\n",
    "    plt.plot(xs, densities[j](xs), label=j)\n",
    "plt.legend(ncol=5)"
   ]
  },
  {
   "cell_type": "code",
   "execution_count": 28,
   "id": "c0be392f",
   "metadata": {
    "collapsed": false
   },
   "outputs": [
    {
     "data": {
      "application/vnd.jupyter.widget-view+json": {
       "model_id": "e5f4a4c2d6d342dea4c78d93e2551894",
       "version_major": 2,
       "version_minor": 0
      },
      "image/png": "[encoded data removed]",
      "text/html": [
       "\n",
       "            <div style=\"display: inline-block;\">\n",
       "                <div class=\"jupyter-widgets widget-label\" style=\"text-align: center;\">\n",
       "                    Figure 5\n",
       "                </div>\n",
       "                <img src='data:image/png;base64,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' width=640.0/>\n",
       "            </div>\n",
       "        "
      ],
      "text/plain": [
       "Canvas(toolbar=Toolbar(toolitems=[('Home', 'Reset original view', 'home', 'home'), ('Back', 'Back to previous …"
      ]
     },
     "metadata": {},
     "output_type": "display_data"
    }
   ],
   "source": [
    "# Calculate the sum of entries for each feature\n",
    "feature_sums = np.sum(X, axis=0)\n",
    "\n",
    "# Filter the features to include only those that describe word frequency\n",
    "word_freq_indices = [i for i, feature in enumerate(features) if feature.startswith('word_freq')]\n",
    "word_freq_features = features[word_freq_indices]\n",
    "word_freq_sums = feature_sums[word_freq_indices]\n",
    "\n",
    "# Sort the word frequency features and their sums in decreasing order\n",
    "sorted_indices = np.argsort(word_freq_sums)[::-1]\n",
    "sorted_word_freq_features = word_freq_features[sorted_indices]\n",
    "sorted_word_freq_sums = word_freq_sums[sorted_indices]\n",
    "\n",
    "# Plot the distribution\n",
    "plt.bar(sorted_word_freq_features, sorted_word_freq_sums)\n",
    "plt.xticks(rotation=90)\n",
    "plt.title('Distribution of the Sum of Entries for Each Word Frequency Feature')\n",
    "plt.xlabel('Features')\n",
    "plt.ylabel('Sum of Entries')\n",
    "plt.show()\n",
    "\n",
    "\n"
   ]
  },
  {
   "cell_type": "code",
   "execution_count": null,
   "id": "47bd5c23",
   "metadata": {},
   "outputs": [],
   "source": []
  },
  {
   "cell_type": "code",
   "execution_count": 29,
   "id": "94b56c27",
   "metadata": {
    "collapsed": false
   },
   "outputs": [],
   "source": [
    "# Let's compute z-scores; create two new variables Xz and Xtestz."
   ]
  },
  {
   "cell_type": "code",
   "execution_count": 30,
   "id": "e36f9864",
   "metadata": {
    "collapsed": false
   },
   "outputs": [
    {
     "ename": "NameError",
     "evalue": "name 'Xz' is not defined",
     "output_type": "error",
     "traceback": [
      "\u001b[0;31m---------------------------------------------------------------------------\u001b[0m",
      "\u001b[0;31mNameError\u001b[0m                                 Traceback (most recent call last)",
      "Cell \u001b[0;32mIn[30], line 3\u001b[0m\n\u001b[1;32m      1\u001b[0m \u001b[38;5;66;03m# Let's check. Xz and Xtestz refer to the normalized datasets just created. We\u001b[39;00m\n\u001b[1;32m      2\u001b[0m \u001b[38;5;66;03m# will use them throughout.\u001b[39;00m\n\u001b[0;32m----> 3\u001b[0m np\u001b[38;5;241m.\u001b[39mmean(\u001b[43mXz\u001b[49m, axis\u001b[38;5;241m=\u001b[39m\u001b[38;5;241m0\u001b[39m)  \u001b[38;5;66;03m# should be all 0\u001b[39;00m\n\u001b[1;32m      4\u001b[0m np\u001b[38;5;241m.\u001b[39mvar(Xz, axis\u001b[38;5;241m=\u001b[39m\u001b[38;5;241m0\u001b[39m)  \u001b[38;5;66;03m# should be all 1\u001b[39;00m\n\u001b[1;32m      5\u001b[0m np\u001b[38;5;241m.\u001b[39mmean(Xtestz, axis\u001b[38;5;241m=\u001b[39m\u001b[38;5;241m0\u001b[39m)  \u001b[38;5;66;03m# what do you get here?\u001b[39;00m\n",
      "\u001b[0;31mNameError\u001b[0m: name 'Xz' is not defined"
     ]
    }
   ],
   "source": [
    "# Let's check. Xz and Xtestz refer to the normalized datasets just created. We\n",
    "# will use them throughout.\n",
    "np.mean(Xz, axis=0)  # should be all 0\n",
    "np.var(Xz, axis=0)  # should be all 1\n",
    "np.mean(Xtestz, axis=0)  # what do you get here?\n",
    "np.var(Xtestz, axis=0)\n",
    "\n",
    "np.sum(Xz ** 3)  # should be: 1925261.15"
   ]
  },
  {
   "cell_type": "code",
   "execution_count": null,
   "id": "590d4b12",
   "metadata": {
    "collapsed": false
   },
   "outputs": [],
   "source": [
    "# Explore the normalized data\n",
    "# YOUR CODE HERE"
   ]
  },
  {
   "cell_type": "markdown",
   "id": "9b16cebd",
   "metadata": {},
   "source": [
    "# 2. Maximum Likelihood Estimation"
   ]
  },
  {
   "cell_type": "markdown",
   "id": "1d6a921d",
   "metadata": {},
   "source": [
    "## Helper functions"
   ]
  },
  {
   "cell_type": "code",
   "execution_count": null,
   "id": "fd4a9fcd",
   "metadata": {
    "collapsed": false
   },
   "outputs": [],
   "source": [
    "def logsumexp(x):\n",
    "    \"\"\"Computes log(sum(exp(x)).\n",
    "\n",
    "    Uses offset trick to reduce risk of numeric over- or underflow. When x is a\n",
    "    1D ndarray, computes logsumexp of its entries. When x is a 2D ndarray,\n",
    "    computes logsumexp of each column.\n",
    "\n",
    "    Keyword arguments:\n",
    "    x : a 1D or 2D ndarray\n",
    "    \"\"\"\n",
    "    offset = np.max(x, axis=0)\n",
    "    return offset + np.log(np.sum(np.exp(x - offset), axis=0))"
   ]
  },
  {
   "cell_type": "code",
   "execution_count": null,
   "id": "f068e0d3",
   "metadata": {
    "collapsed": false
   },
   "outputs": [],
   "source": [
    "# Define the logistic function. Make sure it operates on both scalars\n",
    "# and vectors.\n",
    "def sigma(x):\n",
    "    # YOUR CODE HERE\n",
    "    "
   ]
  },
  {
   "cell_type": "code",
   "execution_count": null,
   "id": "a43b2aca",
   "metadata": {
    "collapsed": false
   },
   "outputs": [],
   "source": [
    "# this should give:\n",
    "# [0.5, array([0.26894142, 0.5, 0.73105858])]\n",
    "[sigma(0), sigma(np.array([-1, 0, 1]))]"
   ]
  },
  {
   "cell_type": "code",
   "execution_count": null,
   "id": "75716619",
   "metadata": {
    "collapsed": false
   },
   "outputs": [],
   "source": [
    "# Define the logarithm of the logistic function. Make sure it operates on both\n",
    "# scalars and vectors. Perhaps helpful: isinstance(x, np.ndarray).\n",
    "def logsigma(x):\n",
    "    # YOUR CODE HERE"
   ]
  },
  {
   "cell_type": "code",
   "execution_count": null,
   "id": "84c6bf3d",
   "metadata": {
    "collapsed": false
   },
   "outputs": [],
   "source": [
    "# this should give:\n",
    "# [-0.69314718055994529, array([-1.31326169, -0.69314718, -0.31326169])]\n",
    "[logsigma(0), logsigma(np.array([-1, 0, 1]))]"
   ]
  },
  {
   "cell_type": "markdown",
   "id": "234ebca4",
   "metadata": {},
   "source": [
    "## 2b Log-likelihood and gradient"
   ]
  },
  {
   "cell_type": "code",
   "execution_count": null,
   "id": "c3901f99",
   "metadata": {
    "collapsed": false
   },
   "outputs": [],
   "source": [
    "def l(y, X, w):\n",
    "    \"\"\"Log-likelihood of the logistic regression model.\n",
    "\n",
    "    Parameters\n",
    "    ----------\n",
    "    y : ndarray of shape (N,)\n",
    "        Binary labels (either 0 or 1).\n",
    "    X : ndarray of shape (N,D)\n",
    "        Design matrix.\n",
    "    w : ndarray of shape (D,)\n",
    "        Weight vector.\n",
    "    \"\"\"\n",
    "    # YOUR CODE HERE"
   ]
  },
  {
   "cell_type": "code",
   "execution_count": null,
   "id": "b6e25bab",
   "metadata": {
    "collapsed": false
   },
   "outputs": [],
   "source": [
    "# this should give:\n",
    "# -47066.641667825766\n",
    "l(y, Xz, np.linspace(-5, 5, D))"
   ]
  },
  {
   "cell_type": "code",
   "execution_count": null,
   "id": "2ef7aaca",
   "metadata": {
    "collapsed": false
   },
   "outputs": [],
   "source": [
    "def dl(y, X, w):\n",
    "    \"\"\"Gradient of the log-likelihood of the logistic regression model.\n",
    "\n",
    "    Parameters\n",
    "    ----------\n",
    "    y : ndarray of shape (N,)\n",
    "        Binary labels (either 0 or 1).\n",
    "    X : ndarray of shape (N,D)\n",
    "        Design matrix.\n",
    "    w : ndarray of shape (D,)\n",
    "        Weight vector.\n",
    "\n",
    "    Returns\n",
    "    -------\n",
    "    ndarray of shape (D,)\n",
    "    \"\"\"\n",
    "    # YOUR CODE HERE"
   ]
  },
  {
   "cell_type": "code",
   "execution_count": null,
   "id": "0d556a2f",
   "metadata": {
    "collapsed": false
   },
   "outputs": [],
   "source": [
    "# this should give:\n",
    "# array([  551.33985842,   143.84116318,   841.83373606,   156.87237578,\n",
    "#          802.61217579,   795.96202907,   920.69045803,   621.96516752,\n",
    "#          659.18724769,   470.81259805,   771.32406968,   352.40325626,\n",
    "#          455.66972482,   234.36600888,   562.45454038,   864.83981264,\n",
    "#          787.19723703,   649.48042176,   902.6478154 ,   544.00539886,\n",
    "#         1174.78638035,   120.3598967 ,   839.61141672,   633.30453444,\n",
    "#         -706.66815087,  -630.2039816 ,  -569.3451386 ,  -527.50996698,\n",
    "#         -359.53701083,  -476.64334832,  -411.60620464,  -375.11950586,\n",
    "#         -345.37195689,  -376.22044258,  -407.31761977,  -456.23251936,\n",
    "#         -596.86960184,  -107.97072355,  -394.82170044,  -229.18125598,\n",
    "#         -288.46356547,  -362.13402385,  -450.87896465,  -277.03932676,\n",
    "#         -414.99293368,  -452.28771693,  -167.54649092,  -270.9043748 ,\n",
    "#         -252.20140951,  -357.72497343,  -259.12468742,   418.35938483,\n",
    "#          604.54173228,    43.10390907,   152.24258478,   378.16731033,\n",
    "#          416.12032881])\n",
    "dl(y, Xz, np.linspace(-5, 5, D))"
   ]
  },
  {
   "cell_type": "markdown",
   "id": "fd228144",
   "metadata": {},
   "source": [
    "## 2c Gradient descent"
   ]
  },
  {
   "cell_type": "code",
   "execution_count": null,
   "id": "d712749e",
   "metadata": {
    "collapsed": false
   },
   "outputs": [],
   "source": [
    "# you don't need to modify this function\n",
    "def optimize(obj_up, theta0, nepochs=50, eps0=0.01, verbose=True):\n",
    "    \"\"\"Iteratively minimize a function.\n",
    "\n",
    "    We use it here to run either gradient descent or stochastic gradient\n",
    "    descent, using arbitrarly optimization criteria.\n",
    "\n",
    "    Parameters\n",
    "    ----------\n",
    "    obj_up  : a tuple of form (f, update) containing two functions f and update.\n",
    "              f(theta) computes the value of the objective function.\n",
    "              update(theta,eps) performs an epoch of parameter update with step size\n",
    "              eps and returns the result.\n",
    "    theta0  : ndarray of shape (D,)\n",
    "              Initial parameter vector.\n",
    "    nepochs : int\n",
    "              How many epochs (calls to update) to run.\n",
    "    eps0    : float\n",
    "              Initial step size.\n",
    "    verbose : boolean\n",
    "              Whether to print progress information.\n",
    "\n",
    "    Returns\n",
    "    -------\n",
    "    A triple consisting of the fitted parameter vector, the values of the\n",
    "    objective function after every epoch, and the step sizes that were used.\n",
    "    \"\"\"\n",
    "\n",
    "    f, update = obj_up\n",
    "\n",
    "    # initialize results\n",
    "    theta = theta0\n",
    "    values = np.zeros(nepochs + 1)\n",
    "    eps = np.zeros(nepochs + 1)\n",
    "    values[0] = f(theta0)\n",
    "    eps[0] = eps0\n",
    "\n",
    "    # now run the update function nepochs times\n",
    "    for epoch in range(nepochs):\n",
    "        if verbose:\n",
    "            print(\n",
    "                \"Epoch {:3d}: f={:10.3f}, eps={:10.9f}\".format(\n",
    "                    epoch, values[epoch], eps[epoch]\n",
    "                )\n",
    "            )\n",
    "        theta = update(theta, eps[epoch])\n",
    "\n",
    "        # we use the bold driver heuristic\n",
    "        values[epoch + 1] = f(theta)\n",
    "        if values[epoch] < values[epoch + 1]:\n",
    "            eps[epoch + 1] = eps[epoch] / 2.0\n",
    "        else:\n",
    "            eps[epoch + 1] = eps[epoch] * 1.05\n",
    "\n",
    "    # all done\n",
    "    if verbose:\n",
    "        print(\"Result after {} epochs: f={}\".format(nepochs, values[-1]))\n",
    "    return theta, values, eps"
   ]
  },
  {
   "cell_type": "code",
   "execution_count": null,
   "id": "c3e119de",
   "metadata": {
    "collapsed": false
   },
   "outputs": [],
   "source": [
    "# define the objective and update function for one gradient-descent epoch for\n",
    "# fitting an MLE estimate of logistic regression with gradient descent (should\n",
    "# return a tuple of two functions; see optimize)\n",
    "def gd(y, X):\n",
    "    def objective(w):\n",
    "        # YOUR CODE HERE\n",
    "\n",
    "    def update(w, eps):\n",
    "        # YOUR CODE HERE\n",
    "\n",
    "    return (objective, update)"
   ]
  },
  {
   "cell_type": "code",
   "execution_count": null,
   "id": "62f87184",
   "metadata": {
    "collapsed": false
   },
   "outputs": [],
   "source": [
    "# this should give\n",
    "# [47066.641667825766,\n",
    "#  array([  4.13777838e+01,  -1.56745627e+01,   5.75882538e+01,\n",
    "#           1.14225143e+01,   5.54249703e+01,   5.99229049e+01,\n",
    "#           7.11220141e+01,   4.84761728e+01,   5.78067289e+01,\n",
    "#           4.54794720e+01,   7.14638492e+01,   1.51369386e+01,\n",
    "#           3.36375739e+01,   2.15061217e+01,   5.78014255e+01,\n",
    "#           6.72743066e+01,   7.00829312e+01,   5.29328088e+01,\n",
    "#           6.16042473e+01,   5.50018510e+01,   8.94624817e+01,\n",
    "#           2.74784480e+01,   8.51763599e+01,   5.60363965e+01,\n",
    "#          -2.55865589e+01,  -1.53788213e+01,  -4.67015412e+01,\n",
    "#          -2.50356570e+00,  -3.85357592e+00,  -2.21819155e+00,\n",
    "#           3.32098671e+00,   3.86933390e+00,  -2.00309898e+01,\n",
    "#           3.84684492e+00,  -2.19847927e-01,  -1.29775457e+00,\n",
    "#          -1.28374302e+01,  -2.78303173e+00,  -5.61671182e+00,\n",
    "#           1.73657121e+01,  -6.81197570e+00,  -1.20249002e+01,\n",
    "#           2.65789491e+00,  -1.39557852e+01,  -2.01135653e+01,\n",
    "#          -2.72134051e+01,  -9.45952961e-01,  -1.02239111e+01,\n",
    "#           1.52794293e-04,  -5.18938123e-01,  -3.19717561e+00,\n",
    "#           4.62953437e+01,   7.87893022e+01,   1.88618651e+01,\n",
    "#           2.85195027e+01,   5.04698358e+01,   6.41240689e+01])\n",
    "f, update = gd(y, Xz)\n",
    "[f(np.linspace(-5, 5, D)), update(np.linspace(-5, -5, D), 0.1)]"
   ]
  },
  {
   "cell_type": "code",
   "execution_count": null,
   "id": "bde01365",
   "metadata": {
    "collapsed": false
   },
   "outputs": [],
   "source": [
    "# you can run gradient descent!\n",
    "numpy.random.seed(0)\n",
    "w0 = np.random.normal(size=D)\n",
    "wz_gd, vz_gd, ez_gd = optimize(gd(y, Xz), w0, nepochs=500)"
   ]
  },
  {
   "cell_type": "code",
   "execution_count": null,
   "id": "6c75cbd0",
   "metadata": {
    "collapsed": false
   },
   "outputs": [],
   "source": [
    "# look at how gradient descent made progess\n",
    "# YOUR CODE HERE"
   ]
  },
  {
   "cell_type": "markdown",
   "id": "4e291580",
   "metadata": {},
   "source": [
    "## 2d Stochastic gradient descent"
   ]
  },
  {
   "cell_type": "code",
   "execution_count": null,
   "id": "0d2d9e1d",
   "metadata": {
    "collapsed": false
   },
   "outputs": [],
   "source": [
    "def sgdepoch(y, X, w, eps):\n",
    "    \"\"\"Run one SGD epoch and return the updated weight vector. \"\"\"\n",
    "    # Run N stochastic gradient steps (without replacement). Do not rescale each\n",
    "    # step by factor N (i.e., proceed differently than in the lecture slides).\n",
    "    # YOUR CODE HERE"
   ]
  },
  {
   "cell_type": "code",
   "execution_count": null,
   "id": "20c70f6f",
   "metadata": {
    "collapsed": false
   },
   "outputs": [],
   "source": [
    "# when you run this multiple times, with 50% probability you should get the\n",
    "# following result (there is one other result which is very close):\n",
    "# array([ -3.43689655e+02,  -1.71161311e+02,  -5.71093536e+02,\n",
    "#         -5.16478220e+01,   4.66294348e+02,  -3.71589878e+02,\n",
    "#          5.21493183e+02,   1.25699230e+03,   8.33804130e+02,\n",
    "#          5.63185399e+02,   1.32761302e+03,  -2.64104011e+02,\n",
    "#          7.10693307e+02,  -1.75497331e+02,  -1.94174427e+02,\n",
    "#          1.11641507e+02,  -3.30817509e+02,  -3.46754913e+02,\n",
    "#          8.48722111e+02,  -1.89136304e+02,  -4.25693844e+02,\n",
    "#         -1.23084189e+02,  -2.95894797e+02,  -2.35789333e+02,\n",
    "#         -3.38695243e+02,  -3.05642830e+02,  -2.28975383e+02,\n",
    "#         -2.38075137e+02,  -1.66702530e+02,  -2.27341599e+02,\n",
    "#         -1.77575620e+02,  -1.49093855e+02,  -1.70028859e+02,\n",
    "#         -1.50243833e+02,  -1.82986008e+02,  -2.41143708e+02,\n",
    "#         -3.31047159e+02,  -5.79991185e+01,  -1.98477863e+02,\n",
    "#         -1.91264948e+02,  -1.17371919e+02,  -1.66953779e+02,\n",
    "#         -2.01472565e+02,  -1.23330949e+02,  -3.00857740e+02,\n",
    "#         -1.95853348e+02,  -7.44868073e+01,  -1.11172370e+02,\n",
    "#         -1.57618226e+02,  -1.25729512e+00,  -1.45536466e+02,\n",
    "#         -1.43362438e+02,  -3.00429708e+02,  -9.84391082e+01,\n",
    "#         -4.54152047e+01,  -5.26492232e+01,  -1.45175427e+02])\n",
    "sgdepoch(y[1:3], Xz[1:3, :], np.linspace(-5, 5, D), 1000)"
   ]
  },
  {
   "cell_type": "code",
   "execution_count": null,
   "id": "7b2b71aa",
   "metadata": {
    "collapsed": false
   },
   "outputs": [],
   "source": [
    "# define the objective and update function for one gradient-descent epoch for\n",
    "# fitting an MLE estimate of logistic regression with stochastic gradient descent\n",
    "# (should return a tuple of two functions; see optimize)\n",
    "def sgd(y, X):\n",
    "    def objective(w):\n",
    "        # YOUR CODE HERE\n",
    "\n",
    "    def update(w, eps):\n",
    "        return sgdepoch(y, X, w, eps)\n",
    "\n",
    "    return (objective, update)"
   ]
  },
  {
   "cell_type": "code",
   "execution_count": null,
   "id": "579be14f",
   "metadata": {
    "collapsed": false
   },
   "outputs": [],
   "source": [
    "# with 50% probability, you should get:\n",
    "# [40.864973045695081,\n",
    "#  array([ -3.43689655e+02,  -1.71161311e+02,  -5.71093536e+02,\n",
    "#          -5.16478220e+01,   4.66294348e+02,  -3.71589878e+02,\n",
    "#           5.21493183e+02,   1.25699230e+03,   8.33804130e+02,\n",
    "#           5.63185399e+02,   1.32761302e+03,  -2.64104011e+02,\n",
    "#           7.10693307e+02,  -1.75497331e+02,  -1.94174427e+02,\n",
    "#           1.11641507e+02,  -3.30817509e+02,  -3.46754913e+02,\n",
    "#           8.48722111e+02,  -1.89136304e+02,  -4.25693844e+02,\n",
    "#          -1.23084189e+02,  -2.95894797e+02,  -2.35789333e+02,\n",
    "#          -3.38695243e+02,  -3.05642830e+02,  -2.28975383e+02,\n",
    "#          -2.38075137e+02,  -1.66702530e+02,  -2.27341599e+02,\n",
    "#          -1.77575620e+02,  -1.49093855e+02,  -1.70028859e+02,\n",
    "#          -1.50243833e+02,  -1.82986008e+02,  -2.41143708e+02,\n",
    "#          -3.31047159e+02,  -5.79991185e+01,  -1.98477863e+02,\n",
    "#          -1.91264948e+02,  -1.17371919e+02,  -1.66953779e+02,\n",
    "#          -2.01472565e+02,  -1.23330949e+02,  -3.00857740e+02,\n",
    "#          -1.95853348e+02,  -7.44868073e+01,  -1.11172370e+02,\n",
    "#          -1.57618226e+02,  -1.25729512e+00,  -1.45536466e+02,\n",
    "#          -1.43362438e+02,  -3.00429708e+02,  -9.84391082e+01,\n",
    "#          -4.54152047e+01,  -5.26492232e+01,  -1.45175427e+02])]\n",
    "f, update = sgd(y[1:3], Xz[1:3, :])\n",
    "[f(np.linspace(-5, 5, D)), update(np.linspace(-5, 5, D), 1000)]"
   ]
  },
  {
   "cell_type": "code",
   "execution_count": null,
   "id": "555839f4",
   "metadata": {
    "collapsed": false
   },
   "outputs": [],
   "source": [
    "# you can run stochastic gradient descent!\n",
    "wz_sgd, vz_sgd, ez_sgd = optimize(sgd(y, Xz), w0, nepochs=500)"
   ]
  },
  {
   "cell_type": "markdown",
   "id": "969495d6",
   "metadata": {},
   "source": [
    "## 2e Compare GD and SGD"
   ]
  },
  {
   "cell_type": "code",
   "execution_count": null,
   "id": "1aa9d3c8",
   "metadata": {
    "collapsed": false
   },
   "outputs": [],
   "source": [
    "# YOUR CODE HERE"
   ]
  },
  {
   "cell_type": "markdown",
   "id": "05acb506",
   "metadata": {},
   "source": [
    "# 3 Prediction"
   ]
  },
  {
   "cell_type": "code",
   "execution_count": null,
   "id": "a54368f0",
   "metadata": {
    "collapsed": false
   },
   "outputs": [],
   "source": [
    "def predict(Xtest, w):\n",
    "    \"\"\"Returns vector of predicted confidence values for logistic regression with\n",
    "weight vector w.\"\"\"\n",
    "    # YOUR CODE HERE\n",
    "\n",
    "\n",
    "def classify(Xtest, w):\n",
    "    \"\"\"Returns 0/1 vector of predicted class labels for logistic regression with\n",
    "weight vector w.\"\"\"\n",
    "    # YOUR CODE HERE"
   ]
  },
  {
   "cell_type": "code",
   "execution_count": null,
   "id": "44705a32",
   "metadata": {
    "collapsed": false
   },
   "outputs": [],
   "source": [
    "# Example: confusion matrix\n",
    "yhat = predict(Xtestz, wz_gd)\n",
    "ypred = classify(Xtestz, wz_gd)\n",
    "print(sklearn.metrics.confusion_matrix(ytest, ypred))  # true x predicted"
   ]
  },
  {
   "cell_type": "code",
   "execution_count": null,
   "id": "0c8ecaa9",
   "metadata": {
    "collapsed": false
   },
   "outputs": [],
   "source": [
    "# Example: classification report\n",
    "print(sklearn.metrics.classification_report(ytest, ypred))"
   ]
  },
  {
   "cell_type": "code",
   "execution_count": null,
   "id": "6f6d7a30",
   "metadata": {
    "collapsed": false
   },
   "outputs": [],
   "source": [
    "# Example: precision-recall curve (with annotated thresholds)\n",
    "nextplot()\n",
    "precision, recall, thresholds = sklearn.metrics.precision_recall_curve(ytest, yhat)\n",
    "plt.plot(recall, precision)\n",
    "for x in np.linspace(0, 1, 10, endpoint=False):\n",
    "    index = int(x * (precision.size - 1))\n",
    "    plt.text(recall[index], precision[index], \"{:3.2f}\".format(thresholds[index]))\n",
    "plt.xlabel(\"Recall\")\n",
    "plt.ylabel(\"Precision\")"
   ]
  },
  {
   "cell_type": "code",
   "execution_count": null,
   "id": "a98fdf3a",
   "metadata": {
    "collapsed": false
   },
   "outputs": [],
   "source": [
    "# Explore which features are considered important\n",
    "# YOUR CODE HERE"
   ]
  },
  {
   "cell_type": "markdown",
   "id": "84d55b32",
   "metadata": {},
   "source": [
    "# 4 Maximum Aposteriori Estimation"
   ]
  },
  {
   "cell_type": "markdown",
   "id": "9eeb1e0f",
   "metadata": {},
   "source": [
    "## 4a Gradient Descent"
   ]
  },
  {
   "cell_type": "code",
   "execution_count": null,
   "id": "ae615b89",
   "metadata": {
    "collapsed": false
   },
   "outputs": [],
   "source": [
    "def l_l2(y, X, w, lambda_):\n",
    "    \"\"\"Log-density of posterior of logistic regression with weights w and L2\n",
    "regularization parameter lambda_\"\"\"\n",
    "    # YOUR CODE HERE"
   ]
  },
  {
   "cell_type": "code",
   "execution_count": null,
   "id": "6c0817df",
   "metadata": {
    "collapsed": false
   },
   "outputs": [],
   "source": [
    "# this should give:\n",
    "# [-47066.641667825766, -47312.623810682911]\n",
    "[l_l2(y, Xz, np.linspace(-5, 5, D), 0), l_l2(y, Xz, np.linspace(-5, 5, D), 1)]"
   ]
  },
  {
   "cell_type": "code",
   "execution_count": null,
   "id": "cf11375d",
   "metadata": {
    "collapsed": false
   },
   "outputs": [],
   "source": [
    "def dl_l2(y, X, w, lambda_):\n",
    "    \"\"\"Gradient of log-density of posterior of logistic regression with weights w\n",
    "and L2 regularization parameter lambda_.\"\"\"\n",
    "    # YOUR CODE HERE"
   ]
  },
  {
   "cell_type": "code",
   "execution_count": null,
   "id": "bbb2cced",
   "metadata": {
    "collapsed": false
   },
   "outputs": [],
   "source": [
    "# this should give:\n",
    "# [array([  551.33985842,   143.84116318,   841.83373606,   156.87237578,\n",
    "#           802.61217579,   795.96202907,   920.69045803,   621.96516752,\n",
    "#           659.18724769,   470.81259805,   771.32406968,   352.40325626,\n",
    "#           455.66972482,   234.36600888,   562.45454038,   864.83981264,\n",
    "#           787.19723703,   649.48042176,   902.6478154 ,   544.00539886,\n",
    "#          1174.78638035,   120.3598967 ,   839.61141672,   633.30453444,\n",
    "#          -706.66815087,  -630.2039816 ,  -569.3451386 ,  -527.50996698,\n",
    "#          -359.53701083,  -476.64334832,  -411.60620464,  -375.11950586,\n",
    "#          -345.37195689,  -376.22044258,  -407.31761977,  -456.23251936,\n",
    "#          -596.86960184,  -107.97072355,  -394.82170044,  -229.18125598,\n",
    "#          -288.46356547,  -362.13402385,  -450.87896465,  -277.03932676,\n",
    "#          -414.99293368,  -452.28771693,  -167.54649092,  -270.9043748 ,\n",
    "#          -252.20140951,  -357.72497343,  -259.12468742,   418.35938483,\n",
    "#           604.54173228,    43.10390907,   152.24258478,   378.16731033,\n",
    "#           416.12032881]),\n",
    "#  array([  556.33985842,   148.66259175,   846.4765932 ,   161.33666149,\n",
    "#           806.89789007,   800.06917193,   924.61902946,   625.71516752,\n",
    "#           662.75867626,   474.20545519,   774.5383554 ,   355.43897054,\n",
    "#           458.52686767,   237.04458031,   564.95454038,   867.16124121,\n",
    "#           789.34009417,   651.44470748,   904.43352968,   545.61254171,\n",
    "#          1176.21495178,   121.6098967 ,   840.68284529,   634.19739158,\n",
    "#          -705.95386516,  -629.66826731,  -568.98799574,  -527.33139555,\n",
    "#          -359.53701083,  -476.82191975,  -411.9633475 ,  -375.65522015,\n",
    "#          -346.08624261,  -377.11329972,  -408.38904835,  -457.48251936,\n",
    "#          -598.29817327,  -109.57786641,  -396.60741472,  -231.14554169,\n",
    "#          -290.60642261,  -364.45545242,  -453.37896465,  -279.71789819,\n",
    "#          -417.85007654,  -455.32343122,  -170.76077664,  -274.29723194,\n",
    "#          -255.77283808,  -361.47497343,  -263.05325885,   414.25224198,\n",
    "#           600.25601799,    38.63962335,   147.59972763,   373.34588176,\n",
    "#           411.12032881])]\n",
    "[dl_l2(y, Xz, np.linspace(-5, 5, D), 0), dl_l2(y, Xz, np.linspace(-5, 5, D), 1)]"
   ]
  },
  {
   "cell_type": "code",
   "execution_count": null,
   "id": "030554c9",
   "metadata": {
    "collapsed": false
   },
   "outputs": [],
   "source": [
    "# now define the (f,update) tuple for optimize for logistic regression, L2\n",
    "# regularization, and gradient descent\n",
    "def gd_l2(y, X, lambda_):\n",
    "    # YOUR CODE HERE"
   ]
  },
  {
   "cell_type": "code",
   "execution_count": null,
   "id": "1e1fddaf",
   "metadata": {
    "collapsed": false
   },
   "outputs": [],
   "source": [
    "# let's run!\n",
    "lambda_ = 100\n",
    "wz_gd_l2, vz_gd_l2, ez_gd_l2 = optimize(gd_l2(y, Xz, lambda_), w0, nepochs=500)"
   ]
  },
  {
   "cell_type": "markdown",
   "id": "0e951b36",
   "metadata": {},
   "source": [
    "## 4b Effect of Prior"
   ]
  },
  {
   "cell_type": "code",
   "execution_count": null,
   "id": "1ebb035f",
   "metadata": {
    "collapsed": false
   },
   "outputs": [],
   "source": [
    "# YOUR CODE HERE"
   ]
  },
  {
   "cell_type": "markdown",
   "id": "62aa213f",
   "metadata": {},
   "source": [
    "## 4c Composition of Weight Vector"
   ]
  },
  {
   "cell_type": "code",
   "execution_count": null,
   "id": "9a2fa843",
   "metadata": {
    "collapsed": false
   },
   "outputs": [],
   "source": [
    "# YOUR CODE HERE"
   ]
  },
  {
   "cell_type": "markdown",
   "id": "567ae6b8",
   "metadata": {},
   "source": [
    "## 5 Exploration (optional)"
   ]
  },
  {
   "cell_type": "markdown",
   "id": "ea23bfaf",
   "metadata": {},
   "source": [
    "### 5 Exploration: PyTorch"
   ]
  },
  {
   "cell_type": "code",
   "execution_count": null,
   "id": "c2816ac6",
   "metadata": {
    "collapsed": false
   },
   "outputs": [],
   "source": [
    "# if you want to experiment, here is an implementation of logistic\n",
    "# regression in PyTorch\n",
    "import math\n",
    "import torch\n",
    "import torch.nn as nn\n",
    "import torch.utils.data\n",
    "import torch.nn.functional as F\n",
    "\n",
    "# prepare the data\n",
    "Xztorch = torch.FloatTensor(Xz)\n",
    "ytorch = torch.LongTensor(y)\n",
    "train = torch.utils.data.TensorDataset(Xztorch, ytorch)\n",
    "\n",
    "\n",
    "# manual implementation of logistic regression (without bias)\n",
    "class LogisticRegression(nn.Module):\n",
    "    def __init__(self, D, C):\n",
    "        super(LogisticRegression, self).__init__()\n",
    "        self.weights = torch.nn.Parameter(\n",
    "            torch.randn(D, C) / math.sqrt(D)\n",
    "        )  # xavier initialization\n",
    "        self.register_parameter(\"W\", self.weights)\n",
    "\n",
    "    def forward(self, x):\n",
    "        out = torch.matmul(x, self.weights)\n",
    "        out = F.log_softmax(out)\n",
    "        return out\n",
    "\n",
    "\n",
    "# define the objective and update function. here we ignore the learning rates\n",
    "# and parameters given to us by optimize (they are stored in the PyTorch model\n",
    "# and optimizer, resp., instead)\n",
    "def opt_pytorch():\n",
    "    model = LogisticRegression(D, 2)\n",
    "    criterion = nn.NLLLoss(reduction=\"sum\")\n",
    "    # change the next line to try different optimizers\n",
    "    # optimizer = torch.optim.SGD(model.parameters(), lr=learning_rate)\n",
    "    optimizer = torch.optim.Adam(model.parameters(), lr=learning_rate)\n",
    "\n",
    "    def objective(_):\n",
    "        outputs = model(Xztorch)\n",
    "        return criterion(outputs, ytorch)\n",
    "\n",
    "    def update(_1, _2):\n",
    "        for i, (examples, labels) in enumerate(train_loader):\n",
    "            outputs = model(examples)\n",
    "            loss = criterion(outputs, labels)\n",
    "            optimizer.zero_grad()\n",
    "            loss.backward()\n",
    "            optimizer.step()\n",
    "\n",
    "        W = model.state_dict()[\"W\"]\n",
    "        w = W[:, 1] - W[:, 0]\n",
    "        return w\n",
    "\n",
    "    return (objective, update)"
   ]
  },
  {
   "cell_type": "code",
   "execution_count": null,
   "id": "5d7816a8",
   "metadata": {
    "collapsed": false
   },
   "outputs": [],
   "source": [
    "# run the optimizer\n",
    "learning_rate = 0.01\n",
    "batch_size = 100  # number of data points to sample for gradient estimate\n",
    "shuffle = True  # sample with replacement (false) or without replacement (true)\n",
    "\n",
    "train_loader = torch.utils.data.DataLoader(train, batch_size, shuffle=True)\n",
    "wz_t, vz_t, _ = optimize(opt_pytorch(), None, nepochs=100, eps0=None, verbose=True)"
   ]
  }
 ],
 "metadata": {
  "kernelspec": {
   "display_name": ".venv",
   "language": "python",
   "name": "python3"
  },
  "language_info": {
   "codemirror_mode": {
    "name": "ipython",
    "version": 3
   },
   "file_extension": ".py",
   "mimetype": "text/x-python",
   "name": "python",
   "nbconvert_exporter": "python",
   "pygments_lexer": "ipython3",
   "version": "3.11.5"
  }
 },
 "nbformat": 4,
 "nbformat_minor": 5
}
