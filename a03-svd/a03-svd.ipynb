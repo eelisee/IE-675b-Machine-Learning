{
 "cells": [
  {
   "cell_type": "markdown",
   "id": "ffdacf7c",
   "metadata": {},
   "source": [
    "# Machine Learning - Assignment 3"
   ]
  },
  {
   "cell_type": "markdown",
   "id": "e9c52340",
   "metadata": {},
   "source": [
    "Arne Huckemann (ahuckema), Elise Wolf (eliwolf)"
   ]
  },
  {
   "cell_type": "code",
   "execution_count": 49,
   "id": "37fba92c",
   "metadata": {
    "collapsed": false
   },
   "outputs": [],
   "source": [
    "import numpy as np\n",
    "from numpy.linalg import svd, matrix_rank\n",
    "import pandas as pd\n",
    "import matplotlib.pyplot as plt\n",
    "from IPython import get_ipython\n",
    "from util import (\n",
    "    svdcomp,\n",
    "    nextplot,\n",
    "    plot_matrix,\n",
    "    plot_xy,\n",
    "    plot_cov,\n",
    "    match_categories,\n",
    ")  # see util.py\n",
    "from sklearn.cluster import KMeans\n",
    "\n",
    "# setup plotting\n",
    "import psutil\n",
    "inTerminal = not \"IPKernelApp\" in get_ipython().config\n",
    "inJupyterNb = any(filter(lambda x: x.endswith(\"jupyter-notebook\"), psutil.Process().parent().cmdline()))\n",
    "inJupyterLab = any(filter(lambda x: x.endswith(\"jupyter-lab\"), psutil.Process().parent().cmdline()))\n",
    "if not inJupyterLab:\n",
    "    from IPython import get_ipython\n",
    "    get_ipython().run_line_magic(\"matplotlib\", \"\" if inTerminal else \"notebook\" if inJupyterNb else \"widget\")"
   ]
  },
  {
   "cell_type": "markdown",
   "id": "5a9cc66d",
   "metadata": {},
   "source": [
    "# 1 Intuition on SVD"
   ]
  },
  {
   "cell_type": "code",
   "execution_count": 50,
   "id": "d6d29e9e",
   "metadata": {
    "collapsed": false
   },
   "outputs": [],
   "source": [
    "M1 = np.array(\n",
    "    [\n",
    "        [1, 1, 1, 0, 0],\n",
    "        [1, 1, 1, 0, 0],\n",
    "        [1, 1, 1, 0, 0],\n",
    "        [0, 0, 0, 0, 0],\n",
    "        [0, 0, 0, 0, 0],\n",
    "    ]\n",
    ")\n",
    "\n",
    "M2 = np.array(\n",
    "    [\n",
    "        [0, 0, 0, 0, 0],\n",
    "        [0, 2, 1, 2, 0],\n",
    "        [0, 2, 1, 2, 0],\n",
    "        [0, 2, 1, 2, 0],\n",
    "        [0, 0, 0, 0, 0],\n",
    "    ]\n",
    ")\n",
    "\n",
    "M3 = np.array([[0, 0, 0, 0], [0, 1, 1, 1], [0, 1, 1, 1], [0, 1, 1, 1], [0, 1, 1, 1]])\n",
    "\n",
    "M4 = np.array(\n",
    "    [\n",
    "        [1, 1, 1, 0, 0],\n",
    "        [1, 1, 1, 0, 0],\n",
    "        [1, 1, 1, 0, 0],\n",
    "        [0, 0, 0, 1, 1],\n",
    "        [0, 0, 0, 1, 1],\n",
    "    ]\n",
    ")\n",
    "\n",
    "M5 = np.array(\n",
    "    [\n",
    "        [1, 1, 1, 0, 0],\n",
    "        [1, 1, 1, 0, 0],\n",
    "        [1, 1, 1, 1, 1],\n",
    "        [0, 0, 1, 1, 1],\n",
    "        [0, 0, 1, 1, 1],\n",
    "    ]\n",
    ")\n",
    "\n",
    "M6 = np.array(\n",
    "    [\n",
    "        [1, 1, 1, 1, 1],\n",
    "        [1, 1, 1, 1, 1],\n",
    "        [1, 1, 0, 1, 1],\n",
    "        [1, 1, 1, 1, 1],\n",
    "        [1, 1, 1, 1, 1],\n",
    "    ]\n",
    ")"
   ]
  },
  {
   "cell_type": "markdown",
   "id": "65cefde2",
   "metadata": {},
   "source": [
    "## 1b"
   ]
  },
  {
   "cell_type": "code",
   "execution_count": 59,
   "id": "61107037",
   "metadata": {
    "collapsed": false
   },
   "outputs": [
    {
     "name": "stdout",
     "output_type": "stream",
     "text": [
      "SVD of M1:\n",
      "U1: [[-5.77350269e-01  8.16496581e-01 -8.75605293e-17  0.00000000e+00\n",
      "   0.00000000e+00]\n",
      " [-5.77350269e-01 -4.08248290e-01 -7.07106781e-01  0.00000000e+00\n",
      "   0.00000000e+00]\n",
      " [-5.77350269e-01 -4.08248290e-01  7.07106781e-01  0.00000000e+00\n",
      "   0.00000000e+00]\n",
      " [ 0.00000000e+00  0.00000000e+00  0.00000000e+00  0.00000000e+00\n",
      "   1.00000000e+00]\n",
      " [ 0.00000000e+00  0.00000000e+00  0.00000000e+00  1.00000000e+00\n",
      "   0.00000000e+00]]\n",
      "s1: [3.00000000e+00 1.33801123e-16 1.31940794e-49 0.00000000e+00\n",
      " 0.00000000e+00]\n",
      "Vt1: [[-0.57735027 -0.57735027 -0.57735027 -0.         -0.        ]\n",
      " [ 0.81649658 -0.40824829 -0.40824829  0.          0.        ]\n",
      " [-0.          0.70710678 -0.70710678 -0.         -0.        ]\n",
      " [ 0.          0.          0.          0.          1.        ]\n",
      " [ 0.          0.          0.          1.          0.        ]]\n",
      "\n",
      "SVD of M2:\n",
      "U2: [[ 0.00000000e+00  0.00000000e+00  0.00000000e+00  0.00000000e+00\n",
      "   1.00000000e+00]\n",
      " [-5.77350269e-01  8.16496581e-01  8.75605293e-17  0.00000000e+00\n",
      "   0.00000000e+00]\n",
      " [-5.77350269e-01 -4.08248290e-01 -7.07106781e-01  0.00000000e+00\n",
      "   0.00000000e+00]\n",
      " [-5.77350269e-01 -4.08248290e-01  7.07106781e-01  0.00000000e+00\n",
      "   0.00000000e+00]\n",
      " [ 0.00000000e+00  0.00000000e+00  0.00000000e+00  1.00000000e+00\n",
      "   0.00000000e+00]]\n",
      "s2: [5.19615242e+00 2.44286311e-16 7.15081846e-48 0.00000000e+00\n",
      " 0.00000000e+00]\n",
      "Vt2: [[-0.         -0.66666667 -0.33333333 -0.66666667 -0.        ]\n",
      " [ 0.          0.74535599 -0.2981424  -0.59628479  0.        ]\n",
      " [-0.         -0.          0.89442719 -0.4472136  -0.        ]\n",
      " [ 0.          0.          0.          0.          1.        ]\n",
      " [ 1.          0.          0.          0.          0.        ]]\n",
      "\n",
      "SVD of M3:\n",
      "U3: [[ 0.          0.          0.          1.          0.        ]\n",
      " [-0.5        -0.5        -0.5         0.         -0.5       ]\n",
      " [-0.5         0.83333333 -0.16666667  0.         -0.16666667]\n",
      " [-0.5        -0.16666667  0.83333333  0.         -0.16666667]\n",
      " [-0.5        -0.16666667 -0.16666667  0.          0.83333333]]\n",
      "s3: [3.46410162 0.         0.         0.        ]\n",
      "Vt3: [[-0.         -0.57735027 -0.57735027 -0.57735027]\n",
      " [ 0.          0.81649658 -0.40824829 -0.40824829]\n",
      " [ 0.          0.         -0.70710678  0.70710678]\n",
      " [ 1.          0.          0.          0.        ]]\n",
      "\n",
      "SVD of M4:\n",
      "U4: [[-5.77350269e-01  0.00000000e+00  8.16496581e-01  0.00000000e+00\n",
      "  -8.75605293e-17]\n",
      " [-5.77350269e-01  0.00000000e+00 -4.08248290e-01  0.00000000e+00\n",
      "  -7.07106781e-01]\n",
      " [-5.77350269e-01  0.00000000e+00 -4.08248290e-01  0.00000000e+00\n",
      "   7.07106781e-01]\n",
      " [ 0.00000000e+00 -7.07106781e-01  0.00000000e+00 -7.07106781e-01\n",
      "   0.00000000e+00]\n",
      " [ 0.00000000e+00 -7.07106781e-01  0.00000000e+00  7.07106781e-01\n",
      "   0.00000000e+00]]\n",
      "s4: [3.00000000e+00 2.00000000e+00 1.33801123e-16 1.43493693e-17\n",
      " 1.31940794e-49]\n",
      "Vt4: [[-0.57735027 -0.57735027 -0.57735027 -0.         -0.        ]\n",
      " [-0.         -0.         -0.         -0.70710678 -0.70710678]\n",
      " [ 0.81649658 -0.40824829 -0.40824829  0.          0.        ]\n",
      " [ 0.          0.          0.         -0.70710678  0.70710678]\n",
      " [-0.          0.70710678 -0.70710678 -0.         -0.        ]]\n",
      "\n",
      "SVD of M5:\n",
      "U5: [[-3.94102719e-01 -5.00000000e-01  3.07706105e-01  7.07106781e-01\n",
      "  -6.90381060e-17]\n",
      " [-3.94102719e-01 -5.00000000e-01  3.07706105e-01 -7.07106781e-01\n",
      "   9.22184114e-17]\n",
      " [-6.15412209e-01 -4.37175683e-17 -7.88205438e-01 -1.51090987e-17\n",
      "  -2.31803054e-17]\n",
      " [-3.94102719e-01  5.00000000e-01  3.07706105e-01 -1.81051444e-16\n",
      "  -7.07106781e-01]\n",
      " [-3.94102719e-01  5.00000000e-01  3.07706105e-01  4.09931606e-17\n",
      "   7.07106781e-01]]\n",
      "s5: [3.56155281e+00 2.00000000e+00 5.61552813e-01 1.46139661e-17\n",
      " 4.64495594e-49]\n",
      "Vt5: [[-3.94102719e-01 -3.94102719e-01 -6.15412209e-01 -3.94102719e-01\n",
      "  -3.94102719e-01]\n",
      " [-5.00000000e-01 -5.00000000e-01 -1.63976402e-17  5.00000000e-01\n",
      "   5.00000000e-01]\n",
      " [-3.07706105e-01 -3.07706105e-01  7.88205438e-01 -3.07706105e-01\n",
      "  -3.07706105e-01]\n",
      " [-7.07106781e-01  7.07106781e-01  1.20459692e-16 -1.12092159e-16\n",
      "  -1.12092159e-16]\n",
      " [-0.00000000e+00 -2.31872909e-17  6.60128332e-17  7.07106781e-01\n",
      "  -7.07106781e-01]]\n",
      "\n",
      "SVD of M6:\n",
      "U6: [[-4.61939766e-01 -1.91341716e-01  8.57093429e-01  1.24059883e-01\n",
      "   4.14729722e-17]\n",
      " [-4.61939766e-01 -1.91341716e-01 -4.02662589e-01  7.66722140e-01\n",
      "   7.69039490e-17]\n",
      " [-3.82683432e-01  9.23879533e-01 -1.55954879e-16 -2.97505904e-17\n",
      "   9.89839760e-18]\n",
      " [-4.61939766e-01 -1.91341716e-01 -2.27215420e-01 -4.45391011e-01\n",
      "  -7.07106781e-01]\n",
      " [-4.61939766e-01 -1.91341716e-01 -2.27215420e-01 -4.45391011e-01\n",
      "   7.07106781e-01]]\n",
      "s6: [4.82842712e+00 8.28427125e-01 1.90057833e-16 5.82050373e-19\n",
      " 2.10408590e-51]\n",
      "Vt6: [[-4.61939766e-01 -4.61939766e-01 -3.82683432e-01 -4.61939766e-01\n",
      "  -4.61939766e-01]\n",
      " [ 1.91341716e-01  1.91341716e-01 -9.23879533e-01  1.91341716e-01\n",
      "   1.91341716e-01]\n",
      " [ 8.65999615e-01 -2.94967625e-01  8.53379562e-17 -2.85515995e-01\n",
      "  -2.85515995e-01]\n",
      " [ 6.68331181e-03  8.14244497e-01 -3.02617043e-18 -4.10463904e-01\n",
      "  -4.10463904e-01]\n",
      " [-0.00000000e+00  4.23034501e-17 -2.06215842e-18  7.07106781e-01\n",
      "  -7.07106781e-01]]\n"
     ]
    }
   ],
   "source": [
    "U1, s1, Vt1 = svd(M1)\n",
    "U2, s2, Vt2 = svd(M2)\n",
    "U3, s3, Vt3 = svd(M3)\n",
    "U4, s4, Vt4 = svd(M4)\n",
    "U5, s5, Vt5 = svd(M5)\n",
    "U6, s6, Vt6 = svd(M6)\n",
    "\n",
    "# Print the results\n",
    "print(\"SVD of M1:\")\n",
    "print(\"U1:\", U1)\n",
    "print(\"s1:\", s1)\n",
    "print(\"Vt1:\", Vt1)\n",
    "\n",
    "print(\"\\nSVD of M2:\")\n",
    "print(\"U2:\", U2)\n",
    "print(\"s2:\", s2)\n",
    "print(\"Vt2:\", Vt2)\n",
    "\n",
    "print(\"\\nSVD of M3:\")\n",
    "print(\"U3:\", U3)\n",
    "print(\"s3:\", s3)\n",
    "print(\"Vt3:\", Vt3)\n",
    "\n",
    "print(\"\\nSVD of M4:\")\n",
    "print(\"U4:\", U4)\n",
    "print(\"s4:\", s4)\n",
    "print(\"Vt4:\", Vt4)\n",
    "\n",
    "print(\"\\nSVD of M5:\")\n",
    "print(\"U5:\", U5)\n",
    "print(\"s5:\", s5)\n",
    "print(\"Vt5:\", Vt5)\n",
    "\n",
    "print(\"\\nSVD of M6:\")\n",
    "print(\"U6:\", U6)\n",
    "print(\"s6:\", s6)\n",
    "print(\"Vt6:\", Vt6)"
   ]
  },
  {
   "cell_type": "markdown",
   "id": "ffb87714",
   "metadata": {},
   "source": []
  },
  {
   "cell_type": "markdown",
   "id": "fadf51a6",
   "metadata": {},
   "source": [
    "## 1c"
   ]
  },
  {
   "cell_type": "code",
   "execution_count": 60,
   "id": "ded47d33",
   "metadata": {
    "collapsed": false
   },
   "outputs": [
    {
     "name": "stdout",
     "output_type": "stream",
     "text": [
      "Number of non-zero singular values for M6: 2\n"
     ]
    }
   ],
   "source": [
    "# You can use the functions svdcomp and plot_matrix from util.py\n",
    "# YOUR PART\n",
    "\n",
    "# Count the number of non-zero singular values\n",
    "non_zero_singular_values_M6 = np.sum(s6 > 1e-10)\n",
    "print(f\"Number of non-zero singular values for M6: {non_zero_singular_values_M6}\")"
   ]
  },
  {
   "cell_type": "markdown",
   "id": "0e70c7ac",
   "metadata": {},
   "source": [
    "## 1d"
   ]
  },
  {
   "cell_type": "code",
   "execution_count": 53,
   "id": "94ad06c4",
   "metadata": {
    "collapsed": false
   },
   "outputs": [],
   "source": [
    "# Another method to compute the rank is matrix_rank.\n",
    "# YOUR PART"
   ]
  },
  {
   "cell_type": "markdown",
   "id": "82bc6b9e",
   "metadata": {},
   "source": [
    "# 2 The SVD on Weather Data"
   ]
  },
  {
   "cell_type": "code",
   "execution_count": 54,
   "id": "9de809fe",
   "metadata": {
    "collapsed": false
   },
   "outputs": [],
   "source": [
    "# Load the data\n",
    "climate = pd.read_csv(\"data/worldclim.csv\")\n",
    "coord = pd.read_csv(\"data/worldclim_coordinates.csv\")\n",
    "lon = coord[\"lon\"]\n",
    "lat = coord[\"lat\"]"
   ]
  },
  {
   "cell_type": "code",
   "execution_count": 55,
   "id": "f9929c28",
   "metadata": {
    "collapsed": false
   },
   "outputs": [
    {
     "data": {
      "application/vnd.jupyter.widget-view+json": {
       "model_id": "d9bf7e55d3284ee5adae8ac4df310aa7",
       "version_major": 2,
       "version_minor": 0
      },
      "image/png": "[encoded data removed]",
      "text/html": [
       "\n",
       "            <div style=\"display: inline-block;\">\n",
       "                <div class=\"jupyter-widgets widget-label\" style=\"text-align: center;\">\n",
       "                    Figure\n",
       "                </div>\n",
       "                <img src='data:image/png;base64,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' width=640.0/>\n",
       "            </div>\n",
       "        "
      ],
      "text/plain": [
       "Canvas(toolbar=Toolbar(toolitems=[('Home', 'Reset original view', 'home', 'home'), ('Back', 'Back to previous …"
      ]
     },
     "metadata": {},
     "output_type": "display_data"
    }
   ],
   "source": [
    "# Plot the coordinates\n",
    "plot_xy(lon, lat)"
   ]
  },
  {
   "cell_type": "markdown",
   "id": "65290054",
   "metadata": {},
   "source": [
    "## 2a"
   ]
  },
  {
   "cell_type": "code",
   "execution_count": 56,
   "id": "91f703a7",
   "metadata": {
    "collapsed": false
   },
   "outputs": [],
   "source": [
    "# YOUR PART\n",
    "# Normalize the data to z-scores. Store the result in X."
   ]
  },
  {
   "cell_type": "code",
   "execution_count": 57,
   "id": "97d0199c",
   "metadata": {
    "collapsed": false
   },
   "outputs": [
    {
     "ename": "NameError",
     "evalue": "name 'X' is not defined",
     "output_type": "error",
     "traceback": [
      "\u001b[0;31m---------------------------------------------------------------------------\u001b[0m",
      "\u001b[0;31mNameError\u001b[0m                                 Traceback (most recent call last)",
      "Cell \u001b[0;32mIn[57], line 3\u001b[0m\n\u001b[1;32m      1\u001b[0m \u001b[38;5;66;03m# Plot histograms of attributes\u001b[39;00m\n\u001b[1;32m      2\u001b[0m nextplot()\n\u001b[0;32m----> 3\u001b[0m \u001b[43mX\u001b[49m\u001b[38;5;241m.\u001b[39mhist(ax\u001b[38;5;241m=\u001b[39mplt\u001b[38;5;241m.\u001b[39mgca())\n",
      "\u001b[0;31mNameError\u001b[0m: name 'X' is not defined"
     ]
    },
    {
     "data": {
      "application/vnd.jupyter.widget-view+json": {
       "model_id": "a23160138af9478a860be7bd80cd3486",
       "version_major": 2,
       "version_minor": 0
      },
      "image/png": "[encoded data removed]",
      "text/html": [
       "\n",
       "            <div style=\"display: inline-block;\">\n",
       "                <div class=\"jupyter-widgets widget-label\" style=\"text-align: center;\">\n",
       "                    Figure\n",
       "                </div>\n",
       "                <img src='data:image/png;base64,iVBORw0KGgoAAAANSUhEUgAAAoAAAAHgCAYAAAA10dzkAAAAOXRFWHRTb2Z0d2FyZQBNYXRwbG90bGliIHZlcnNpb24zLjkuMiwgaHR0cHM6Ly9tYXRwbG90bGliLm9yZy8hTgPZAAAACXBIWXMAAA9hAAAPYQGoP6dpAAAIyUlEQVR4nO3WMQEAIAzAMMC/5+ECjiYKenbPzCwAADLO7wAAAN4ygAAAMQYQACDGAAIAxBhAAIAYAwgAEGMAAQBiDCAAQIwBBACIMYAAADEGEAAgxgACAMQYQACAGAMIABBjAAEAYgwgAECMAQQAiDGAAAAxBhAAIMYAAgDEGEAAgBgDCAAQYwABAGIMIABAjAEEAIgxgAAAMQYQACDGAAIAxBhAAIAYAwgAEGMAAQBiDCAAQIwBBACIMYAAADEGEAAgxgACAMQYQACAGAMIABBjAAEAYgwgAECMAQQAiDGAAAAxBhAAIMYAAgDEGEAAgBgDCAAQYwABAGIMIABAjAEEAIgxgAAAMQYQACDGAAIAxBhAAIAYAwgAEGMAAQBiDCAAQIwBBACIMYAAADEGEAAgxgACAMQYQACAGAMIABBjAAEAYgwgAECMAQQAiDGAAAAxBhAAIMYAAgDEGEAAgBgDCAAQYwABAGIMIABAjAEEAIgxgAAAMQYQACDGAAIAxBhAAIAYAwgAEGMAAQBiDCAAQIwBBACIMYAAADEGEAAgxgACAMQYQACAGAMIABBjAAEAYgwgAECMAQQAiDGAAAAxBhAAIMYAAgDEGEAAgBgDCAAQYwABAGIMIABAjAEEAIgxgAAAMQYQACDGAAIAxBhAAIAYAwgAEGMAAQBiDCAAQIwBBACIMYAAADEGEAAgxgACAMQYQACAGAMIABBjAAEAYgwgAECMAQQAiDGAAAAxBhAAIMYAAgDEGEAAgBgDCAAQYwABAGIMIABAjAEEAIgxgAAAMQYQACDGAAIAxBhAAIAYAwgAEGMAAQBiDCAAQIwBBACIMYAAADEGEAAgxgACAMQYQACAGAMIABBjAAEAYgwgAECMAQQAiDGAAAAxBhAAIMYAAgDEGEAAgBgDCAAQYwABAGIMIABAjAEEAIgxgAAAMQYQACDGAAIAxBhAAIAYAwgAEGMAAQBiDCAAQIwBBACIMYAAADEGEAAgxgACAMQYQACAGAMIABBjAAEAYgwgAECMAQQAiDGAAAAxBhAAIMYAAgDEGEAAgBgDCAAQYwABAGIMIABAjAEEAIgxgAAAMQYQACDGAAIAxBhAAIAYAwgAEGMAAQBiDCAAQIwBBACIMYAAADEGEAAgxgACAMQYQACAGAMIABBjAAEAYgwgAECMAQQAiDGAAAAxBhAAIMYAAgDEGEAAgBgDCAAQYwABAGIMIABAjAEEAIgxgAAAMQYQACDGAAIAxBhAAIAYAwgAEGMAAQBiDCAAQIwBBACIMYAAADEGEAAgxgACAMQYQACAGAMIABBjAAEAYgwgAECMAQQAiDGAAAAxBhAAIMYAAgDEGEAAgBgDCAAQYwABAGIMIABAjAEEAIgxgAAAMQYQACDGAAIAxBhAAIAYAwgAEGMAAQBiDCAAQIwBBACIMYAAADEGEAAgxgACAMQYQACAGAMIABBjAAEAYgwgAECMAQQAiDGAAAAxBhAAIMYAAgDEGEAAgBgDCAAQYwABAGIMIABAjAEEAIgxgAAAMQYQACDGAAIAxBhAAIAYAwgAEGMAAQBiDCAAQIwBBACIMYAAADEGEAAgxgACAMQYQACAGAMIABBjAAEAYgwgAECMAQQAiDGAAAAxBhAAIMYAAgDEGEAAgBgDCAAQYwABAGIMIABAjAEEAIgxgAAAMQYQACDGAAIAxBhAAIAYAwgAEGMAAQBiDCAAQIwBBACIMYAAADEGEAAgxgACAMQYQACAGAMIABBjAAEAYgwgAECMAQQAiDGAAAAxBhAAIMYAAgDEGEAAgBgDCAAQYwABAGIMIABAjAEEAIgxgAAAMQYQACDGAAIAxBhAAIAYAwgAEGMAAQBiDCAAQIwBBACIMYAAADEGEAAgxgACAMQYQACAGAMIABBjAAEAYgwgAECMAQQAiDGAAAAxBhAAIMYAAgDEGEAAgBgDCAAQYwABAGIMIABAjAEEAIgxgAAAMQYQACDGAAIAxBhAAIAYAwgAEGMAAQBiDCAAQIwBBACIMYAAADEGEAAgxgACAMQYQACAGAMIABBjAAEAYgwgAECMAQQAiDGAAAAxBhAAIMYAAgDEGEAAgBgDCAAQYwABAGIMIABAjAEEAIgxgAAAMQYQACDGAAIAxBhAAIAYAwgAEGMAAQBiDCAAQIwBBACIMYAAADEGEAAgxgACAMQYQACAGAMIABBjAAEAYgwgAECMAQQAiDGAAAAxBhAAIMYAAgDEGEAAgBgDCAAQYwABAGIMIABAjAEEAIgxgAAAMQYQACDGAAIAxBhAAIAYAwgAEGMAAQBiDCAAQIwBBACIMYAAADEGEAAgxgACAMQYQACAGAMIABBjAAEAYgwgAECMAQQAiDGAAAAxBhAAIMYAAgDEGEAAgBgDCAAQYwABAGIMIABAjAEEAIgxgAAAMQYQACDGAAIAxBhAAIAYAwgAEGMAAQBiDCAAQIwBBACIMYAAADEGEAAgxgACAMQYQACAGAMIABBjAAEAYgwgAECMAQQAiDGAAAAxBhAAIMYAAgDEGEAAgBgDCAAQYwABAGIMIABAjAEEAIgxgAAAMQYQACDGAAIAxBhAAIAYAwgAEGMAAQBiDCAAQIwBBACIMYAAADEGEAAgxgACAMQYQACAGAMIABBjAAEAYgwgAECMAQQAiDGAAAAxBhAAIMYAAgDEGEAAgBgDCAAQYwABAGIMIABAjAEEAIgxgAAAMQYQACDGAAIAxBhAAIAYAwgAEGMAAQBiDCAAQIwBBACIMYAAADEGEAAgxgACAMQYQACAGAMIABBjAAEAYgwgAECMAQQAiDGAAAAxBhAAIMYAAgDEGEAAgBgDCAAQYwABAGIMIABAjAEEAIgxgAAAMQYQACDGAAIAxBhAAIAYAwgAEGMAAQBiDCAAQIwBBACIMYAAADEGEAAgxgACAMQYQACAGAMIABBjAAEAYgwgAECMAQQAiDGAAAAxBhAAIMYAAgDEGEAAgBgDCAAQYwABAGIuJnkHvKensmIAAAAASUVORK5CYII=' width=640.0/>\n",
       "            </div>\n",
       "        "
      ],
      "text/plain": [
       "Canvas(toolbar=Toolbar(toolitems=[('Home', 'Reset original view', 'home', 'home'), ('Back', 'Back to previous …"
      ]
     },
     "metadata": {},
     "output_type": "display_data"
    }
   ],
   "source": [
    "# Plot histograms of attributes\n",
    "nextplot()\n",
    "X.hist(ax=plt.gca())"
   ]
  },
  {
   "cell_type": "markdown",
   "id": "85aa4551",
   "metadata": {},
   "source": [
    "## 2b"
   ]
  },
  {
   "cell_type": "code",
   "execution_count": null,
   "id": "48f01405",
   "metadata": {
    "collapsed": false
   },
   "outputs": [],
   "source": [
    "# Compute the SVD of the normalized climate data and store it in variables U,s,Vt. What\n",
    "# is the rank of the data?\n",
    "# YOUR PART"
   ]
  },
  {
   "cell_type": "markdown",
   "id": "17425cc6",
   "metadata": {},
   "source": [
    "## 2c"
   ]
  },
  {
   "cell_type": "code",
   "execution_count": null,
   "id": "73ca2226",
   "metadata": {
    "collapsed": false
   },
   "outputs": [],
   "source": [
    "# Here is an example plot.\n",
    "plot_xy(lon, lat, U[:, 0])"
   ]
  },
  {
   "cell_type": "code",
   "execution_count": null,
   "id": "4b78ddcf",
   "metadata": {
    "collapsed": false
   },
   "outputs": [],
   "source": [
    "# For interpretation, it may also help to look at the other component matrices and\n",
    "# perhaps use other plot functions (e.g., plot_matrix).\n",
    "# YOUR PART"
   ]
  },
  {
   "cell_type": "markdown",
   "id": "a41779ea",
   "metadata": {},
   "source": [
    "## 2d"
   ]
  },
  {
   "cell_type": "code",
   "execution_count": null,
   "id": "3970c0c9",
   "metadata": {
    "collapsed": false
   },
   "outputs": [],
   "source": [
    "# Here is an example.\n",
    "plot_xy(U[:, 0], U[:, 1], lat - np.mean(lat))"
   ]
  },
  {
   "cell_type": "markdown",
   "id": "3aa41dd7",
   "metadata": {},
   "source": [
    "## 2e"
   ]
  },
  {
   "cell_type": "code",
   "execution_count": null,
   "id": "756efa68",
   "metadata": {
    "collapsed": false
   },
   "outputs": [],
   "source": [
    "# 2e(i) Guttman-Kaiser\n",
    "# YOUR PART"
   ]
  },
  {
   "cell_type": "code",
   "execution_count": null,
   "id": "aad2e425",
   "metadata": {
    "collapsed": false
   },
   "outputs": [],
   "source": [
    "# 2e(ii) 90% squared Frobenius norm\n",
    "# YOUR PART"
   ]
  },
  {
   "cell_type": "code",
   "execution_count": null,
   "id": "47afa659",
   "metadata": {
    "collapsed": false
   },
   "outputs": [],
   "source": [
    "# 2e(iv) entropy\n",
    "# YOUR PART"
   ]
  },
  {
   "cell_type": "code",
   "execution_count": null,
   "id": "a305e12c",
   "metadata": {
    "collapsed": false
   },
   "outputs": [],
   "source": [
    "# 2e(v) random flips\n",
    "# Random sign matrix: np.random.choice([-1,1], X.shape)\n",
    "# YOUR PART"
   ]
  },
  {
   "cell_type": "markdown",
   "id": "1dcb9c6e",
   "metadata": {},
   "source": [
    "## 2f"
   ]
  },
  {
   "cell_type": "code",
   "execution_count": null,
   "id": "66a10943",
   "metadata": {
    "collapsed": false
   },
   "outputs": [],
   "source": [
    "# Here is the empty plot that you need to fill (one line per choice of k: RSME between\n",
    "# original X and the reconstruction from size-k SVD of noisy versions)\n",
    "# YOUR PART\n",
    "nextplot()\n",
    "plt.plot()\n",
    "plt.xlabel(r\"Noise level ($\\epsilon$)\")\n",
    "plt.ylabel(\"Reconstruction RMSE vs. original data\")"
   ]
  },
  {
   "cell_type": "markdown",
   "id": "7cf29bb8",
   "metadata": {},
   "source": [
    "# 3 SVD and k-means"
   ]
  },
  {
   "cell_type": "code",
   "execution_count": null,
   "id": "c348de0e",
   "metadata": {
    "collapsed": false
   },
   "outputs": [],
   "source": [
    "# Cluster the normalized climate data into 5 clusters using k-means and store\n",
    "# the vector giving the cluster labels for each location.\n",
    "X_clusters = KMeans(5).fit(X).labels_"
   ]
  },
  {
   "cell_type": "markdown",
   "id": "de47161c",
   "metadata": {},
   "source": [
    "## 3a"
   ]
  },
  {
   "cell_type": "code",
   "execution_count": null,
   "id": "0ab6128a",
   "metadata": {
    "collapsed": false
   },
   "outputs": [],
   "source": [
    "# Plot the results to the map: use the cluster labels to give the color to each\n",
    "# point.\n",
    "plot_xy(lon, lat, X_clusters)"
   ]
  },
  {
   "cell_type": "markdown",
   "id": "f3a0f5e2",
   "metadata": {},
   "source": [
    "## 3b"
   ]
  },
  {
   "cell_type": "code",
   "execution_count": null,
   "id": "fcb4253f",
   "metadata": {
    "collapsed": false
   },
   "outputs": [],
   "source": [
    "# YOUR PART HERE"
   ]
  },
  {
   "cell_type": "markdown",
   "id": "f7f2a052",
   "metadata": {},
   "source": [
    "## 3c"
   ]
  },
  {
   "cell_type": "code",
   "execution_count": null,
   "id": "a38948ce",
   "metadata": {
    "collapsed": false
   },
   "outputs": [],
   "source": [
    "# Compute the PCA scores, store in Z (of shape N x k)\n",
    "k = 2\n",
    "# YOUR PART HERE"
   ]
  },
  {
   "cell_type": "code",
   "execution_count": null,
   "id": "0fa7e133",
   "metadata": {
    "collapsed": false
   },
   "outputs": [],
   "source": [
    "# cluster and visualize\n",
    "Z_clusters = KMeans(5).fit(Z).labels_\n",
    "# match clusters as well as possible (try without)\n",
    "Z_clusters = match_categories(X_clusters, Z_clusters)\n",
    "nextplot()\n",
    "axs = plt.gcf().subplots(1, 2)\n",
    "plot_xy(lon, lat, X_clusters, axis=axs[0])\n",
    "axs[0].set_title(\"Original data\")\n",
    "plot_xy(lon, lat, Z_clusters, axis=axs[1])\n",
    "axs[1].set_title(f\"PCA $(k={k}$)\")"
   ]
  }
 ],
 "metadata": {
  "kernelspec": {
   "display_name": ".venv",
   "language": "python",
   "name": "python3"
  },
  "language_info": {
   "codemirror_mode": {
    "name": "ipython",
    "version": 3
   },
   "file_extension": ".py",
   "mimetype": "text/x-python",
   "name": "python",
   "nbconvert_exporter": "python",
   "pygments_lexer": "ipython3",
   "version": "3.11.5"
  }
 },
 "nbformat": 4,
 "nbformat_minor": 5
}
